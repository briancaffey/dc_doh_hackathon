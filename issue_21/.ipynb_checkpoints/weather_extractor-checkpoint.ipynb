{
 "cells": [
  {
   "cell_type": "code",
   "execution_count": 33,
   "metadata": {},
   "outputs": [],
   "source": [
    "import pandas as pd\n",
    "import os\n",
    "import datetime"
   ]
  },
  {
   "cell_type": "code",
   "execution_count": 34,
   "metadata": {
    "collapsed": true
   },
   "outputs": [],
   "source": [
    "def get_iso_date(date_str):\n",
    "    #Input: string of format 'yyyy-mm-dd'\n",
    "    \n",
    "    #Output: 3-tuple of format (ISO year, ISO week number, ISO weekday)    \n",
    "    \n",
    "    year = int(date_str[:4])\n",
    "    month = int(date_str[5:7])\n",
    "    day = int(date_str[8:10])\n",
    "    return(datetime.date(year, month, day).isocalendar())"
   ]
  },
  {
   "cell_type": "code",
   "execution_count": 35,
   "metadata": {
    "collapsed": true
   },
   "outputs": [],
   "source": [
    "def main(input_dir, output_dir):\n",
    "    # Input: A directory containing weather data organized from oldest to newest\n",
    "    \n",
    "    # Output: A feature data table -- including total precipitation, average temperature,\n",
    "    #         average maximum temperature, and average minimum temperature -- aggregated by week.\n",
    "\n",
    "    #### read in files from directory and concatenate into one data frame ####\n",
    "    \n",
    "    file_list = []\n",
    "    for filename in os.listdir(input_dir):\n",
    "        file_list.append(pd.read_csv(os.path.join(input_dir, filename)))\n",
    "    df_total = pd.concat(file_list)\n",
    "    \n",
    "    # create an empty final feature table\n",
    "    df_aggregated = pd.DataFrame(columns = ['feature_id', 'feature_type', 'feature_subtype',\n",
    "                                        'year', 'week', 'census_block_2010', 'value'])\n",
    "\n",
    "    ##########################################################################\n",
    "    \n",
    "    \n",
    "    ########## find first monday of the year to avoid partial week ##########\n",
    "\n",
    "    # check the week number of the 7th day; this will always be a full week\n",
    "    week_of_day_7 = get_iso_date(df_total.iloc[6, 1])[1]\n",
    "    \n",
    "    # find the first day in that same week number; this is first Monday \n",
    "    first_monday_idx = 0\n",
    "    date_str = df_total.iloc[0, 1]\n",
    "    while(get_iso_date(date_str)[1] != week_of_day_7):\n",
    "        first_monday_idx += 1\n",
    "        date_str = df_total.iloc[first_monday_idx, 1]\n",
    "    \n",
    "    ##########################################################################\n",
    "    \n",
    "    \n",
    "    ################### iterate over data set by week ########################\n",
    "    \n",
    "    for i in range(first_monday_idx, df_total.shape[0], 7):\n",
    "        temp_vals = {}\n",
    "        iso_date = get_iso_date(df_total.iloc[i, 1])\n",
    "\n",
    "        # add each of the four different features for this week\n",
    "\n",
    "        # Total precipitation\n",
    "        df_aggregated = df_aggregated.append({'feature_id' : 'weather_total_precipitation', 'value': df_total.iloc[i:i+7, 2].sum(axis=0),\n",
    "                                                'year': iso_date[0], 'week' : iso_date[1]}, ignore_index=True)\n",
    "        # Weather Average Temperature\n",
    "        df_aggregated = df_aggregated.append({'feature_id' : 'weather_average_temperature', 'value': df_total.iloc[i:i+7, 5].mean(axis=0),\n",
    "                                                'year': iso_date[0], 'week' : iso_date[1]}, ignore_index=True)\n",
    "\n",
    "        # Weather Average Minimum Temperatue\n",
    "        df_aggregated = df_aggregated.append({'feature_id' : 'weather_average_minimum_temperature', 'value': df_total.iloc[i:i+7, 7].mean(axis=0),\n",
    "                                                'year': iso_date[0], 'week' : iso_date[1]}, ignore_index=True)\n",
    "        # Weather Average Maximum Temperature\n",
    "        df_aggregated = df_aggregated.append({'feature_id' : 'weather_average_maximum_temperature', 'value': df_total.iloc[i:i+7, 6].mean(axis=0),\n",
    "                                                'year': iso_date[0], 'week' : iso_date[1]}, ignore_index=True)\n",
    "    \n",
    "    #######################################################################\n",
    "    \n",
    "    \n",
    "    # output to csv\n",
    "    df_aggregated.to_csv('weather_at_national_airport.csv')"
   ]
  },
  {
   "cell_type": "code",
   "execution_count": 36,
   "metadata": {},
   "outputs": [],
   "source": [
    "input_dir = './/airport_weather_data'\n",
    "output_dir = './/'\n",
    "main(input_dir, output_dir)"
   ]
  },
  {
   "cell_type": "code",
   "execution_count": 122,
   "metadata": {
    "collapsed": true
   },
   "outputs": [],
   "source": [
    "# create an empty final feature table\n",
    "df_aggregated = pd.DataFrame(columns = ['feature_id', 'feature_type', 'feature_subtype',\n",
    "                                        'year', 'week', 'census_block_2010', 'value'])\n",
    "\n",
    "#### iterate over data set by week ####\n",
    "# start on Monday January 6th, 2014 because ISO-8601 weeks start on Monday\n",
    "for i in range(5, df_total.shape[0], 7):\n",
    "    temp_vals = {}\n",
    "    \n",
    "    #convert date to ISO-8601\n",
    "    date = df_total.iloc[i, 1]\n",
    "    year = int(date[:4])\n",
    "    month = int(date[5:7])\n",
    "    day = int(date[8:10])\n",
    "    iso_date = datetime.date(year, month, day).isocalendar()\n",
    "    \n",
    "    ### add each of the four different features for this week\n",
    "    \n",
    "    # Total precipitation\n",
    "    df_aggregated = df_aggregated.append({'feature_id' : 'weather_total_precipitation', 'value': df_total.iloc[i:i+7, 2].sum(axis=0),\n",
    "                                            'year': iso_date[0], 'week' : iso_date[1]}, ignore_index=True)\n",
    "    # Weather Average Temperature\n",
    "    df_aggregated = df_aggregated.append({'feature_id' : 'weather_average_temperature', 'value': df_total.iloc[i:i+7, 5].mean(axis=0),\n",
    "                                            'year': iso_date[0], 'week' : iso_date[1]}, ignore_index=True)\n",
    "    \n",
    "    # Weather Average Minimum Temperatue\n",
    "    df_aggregated = df_aggregated.append({'feature_id' : 'weather_average_minimum_temperature', 'value': df_total.iloc[i:i+7, 7].mean(axis=0),\n",
    "                                            'year': iso_date[0], 'week' : iso_date[1]}, ignore_index=True)\n",
    "    # Weather Average Maximum Temperature\n",
    "    df_aggregated = df_aggregated.append({'feature_id' : 'weather_average_maximum_temperature', 'value': df_total.iloc[i:i+7, 6].mean(axis=0),\n",
    "                                            'year': iso_date[0], 'week' : iso_date[1]}, ignore_index=True)\n",
    "    \n",
    "df_aggregated.to_csv('weather_at_national_airport.csv')"
   ]
  }
 ],
 "metadata": {
  "kernelspec": {
   "display_name": "Python 3",
   "language": "python",
   "name": "python3"
  },
  "language_info": {
   "codemirror_mode": {
    "name": "ipython",
    "version": 3
   },
   "file_extension": ".py",
   "mimetype": "text/x-python",
   "name": "python",
   "nbconvert_exporter": "python",
   "pygments_lexer": "ipython3",
   "version": "3.6.2"
  }
 },
 "nbformat": 4,
 "nbformat_minor": 2
}
